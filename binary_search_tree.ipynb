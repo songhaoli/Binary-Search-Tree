{
 "cells": [
  {
   "cell_type": "raw",
   "metadata": {},
   "source": [
    "Binary Search Tree"
   ]
  },
  {
   "cell_type": "code",
   "execution_count": 1,
   "metadata": {},
   "outputs": [],
   "source": [
    "class TreeNode:\n",
    "    def __init__(self, x):\n",
    "        self.val = x\n",
    "        self.left = None\n",
    "        self.right = None"
   ]
  },
  {
   "cell_type": "code",
   "execution_count": 2,
   "metadata": {},
   "outputs": [],
   "source": [
    "class TreeNode(TreeNode):\n",
    "    # search iteratively\n",
    "    def search(self, x): \n",
    "        c = self\n",
    "        while current is not None:\n",
    "            if x == c.val:\n",
    "                return c\n",
    "            if x < c.val:\n",
    "                c = c.left\n",
    "            else: # x > current.val:\n",
    "                c = c.right\n",
    "        return c\n",
    "    \n",
    "    # insert iteratively\n",
    "    def insert(self, x):\n",
    "        if self is None:\n",
    "            return TreeNode(x)\n",
    "        p, c = None, self\n",
    "        while c is not None:\n",
    "            p = c\n",
    "            if x > c.val:\n",
    "                c = c.right\n",
    "            elif x < c.val:\n",
    "                c = c.left\n",
    "            else: # x is already in the tree\n",
    "                return self\n",
    "        if x > p.val:\n",
    "            p.right = TreeNode(x)\n",
    "        elif x < p.val:\n",
    "            p.left = TreeNode(x)\n",
    "        return self"
   ]
  },
  {
   "cell_type": "code",
   "execution_count": 3,
   "metadata": {},
   "outputs": [],
   "source": [
    "class TreeNode(TreeNode):\n",
    "    # delete a value\n",
    "    def delete(self, x):\n",
    "        if self is None:\n",
    "            return self\n",
    "        p, s = None, self\n",
    "        while s is not None:\n",
    "            if s.val == None:\n",
    "                return root\n",
    "            if x > s.val:\n",
    "                p, s = s, s.right\n",
    "            elif x < s.val:\n",
    "                p, s = s, s.left\n",
    "            else: # s.val == x\n",
    "                break\n",
    "        # Either s.val == x and we delete s, or s is None and we cannot find x in the binary tree.\n",
    "        if s is None: # We cannot find x in the binary tree\n",
    "            return self\n",
    "        if (s.left is None) and (s.right is None): # s has no children. Simply remove s.\n",
    "            if p is None: # s is the root and has no children. Removing s will erase the entire tree.\n",
    "                return None\n",
    "            if (p.left is not None) and (p.left.val == x): # Break the link p.left = s\n",
    "                p.left = None\n",
    "                return self\n",
    "            else: # Break the link p.right = s\n",
    "                p.right = None\n",
    "                return self\n",
    "        if (s.left is None) and (s.right is not None): # if s.left is None, replace s by s.right\n",
    "            if p is None: # s is the root and has no children, return s.right\n",
    "                new_root = s.right\n",
    "                s.right == None\n",
    "                return new_root\n",
    "            if (p.left is not None) and (p.left.val == x): # p.left = s.right\n",
    "                p.left = s.right\n",
    "                return self\n",
    "            else: # Break the link p.right = s\n",
    "                p.right = s.right\n",
    "                return self\n",
    "        if (s.left is not None) and (s.right is None): # if s.right is None, replace s by s.left\n",
    "            if p is None: # s is the root and has no children, return s.right\n",
    "                new_root = s.left\n",
    "                s.left == None\n",
    "                return new_root\n",
    "            if (p.left is not None) and (p.left.val == x): # p.left = s.right\n",
    "                p.left = s.left\n",
    "                return self\n",
    "            else: # Break the link p.right = s\n",
    "                p.right = s.left\n",
    "                return self\n",
    "        if s.left and s.right: # if s has both children, we replace s with the min of right subtree of s.\n",
    "            m, n = s, s.right\n",
    "            while (n.left is not None) and (n.left.val is not None):\n",
    "                m, n = n, n.left\n",
    "            m.left = None\n",
    "            s = n\n",
    "            return self\n",
    "        return self"
   ]
  },
  {
   "cell_type": "code",
   "execution_count": 4,
   "metadata": {},
   "outputs": [],
   "source": [
    "class TreeNode(TreeNode):\n",
    "    # check if the binary tree is a binary search tree.\n",
    "    def isBST(self):\n",
    "        def helper(node, l = float('-inf'), u = float('inf')):\n",
    "            if not node:\n",
    "                return True\n",
    "            x = node.val\n",
    "            if x <= l or x >= u:\n",
    "                return False\n",
    "\n",
    "            if not helper(node.right, x, u):\n",
    "                return False\n",
    "            if not helper(node.left, l, x):\n",
    "                return False\n",
    "            return True\n",
    "        return helper(self)"
   ]
  },
  {
   "cell_type": "code",
   "execution_count": 5,
   "metadata": {},
   "outputs": [],
   "source": [
    "def BSTToList(n) -> list:\n",
    "    if n is None or n.val is None:\n",
    "        return []\n",
    "    return BSTToList(n.left) + [n.val] + BSTToList(n.right)"
   ]
  },
  {
   "cell_type": "code",
   "execution_count": 6,
   "metadata": {},
   "outputs": [],
   "source": [
    "'''\n",
    "Provide a quick way to initialize a binary tree.\n",
    "[3,1,5,None,None,4,6] will initialize to the binary tree of depth 3:\n",
    "  3\n",
    " / \\\n",
    "1   5\n",
    "   / \\\n",
    "  4   6\n",
    "'''\n",
    "def ListToBST(bst_list: list) -> TreeNode:\n",
    "    # The list is empty\n",
    "    if len(bst_list) == 0:\n",
    "        return None\n",
    "    \n",
    "    # There is only 1 element.\n",
    "    if len(bst_list) == 1:\n",
    "        return TreeNode(bst_list[0])\n",
    "    \n",
    "    tn_list = [None]*len(bst_list)\n",
    "    for i, x in enumerate(bst_list):\n",
    "        if x is not None:\n",
    "            tn_list[i] = TreeNode(x)\n",
    "    last_level = int(bin(len(tn_list))[3:], 2)\n",
    "    for i, tn in enumerate(bst_list[:last_level]):\n",
    "        tn_list[i].left = tn_list[i*2+1]\n",
    "        tn_list[i].right = tn_list[i*2+2]\n",
    "    return tn_list[0]"
   ]
  },
  {
   "cell_type": "code",
   "execution_count": 7,
   "metadata": {},
   "outputs": [
    {
     "data": {
      "text/plain": [
       "True"
      ]
     },
     "execution_count": 7,
     "metadata": {},
     "output_type": "execute_result"
    }
   ],
   "source": [
    "root = ListToBST([3,1,5,None,None,4,6])\n",
    "root.isBST()"
   ]
  },
  {
   "cell_type": "code",
   "execution_count": 8,
   "metadata": {},
   "outputs": [
    {
     "data": {
      "text/plain": [
       "6"
      ]
     },
     "execution_count": 8,
     "metadata": {},
     "output_type": "execute_result"
    }
   ],
   "source": [
    "root.right.right.val"
   ]
  },
  {
   "cell_type": "code",
   "execution_count": 9,
   "metadata": {},
   "outputs": [
    {
     "data": {
      "text/plain": [
       "3"
      ]
     },
     "execution_count": 9,
     "metadata": {},
     "output_type": "execute_result"
    }
   ],
   "source": [
    "root.insert(2).val\n",
    "# returns the root value after insertion."
   ]
  },
  {
   "cell_type": "code",
   "execution_count": 10,
   "metadata": {},
   "outputs": [
    {
     "data": {
      "text/plain": [
       "True"
      ]
     },
     "execution_count": 10,
     "metadata": {},
     "output_type": "execute_result"
    }
   ],
   "source": [
    "root.isBST()"
   ]
  },
  {
   "cell_type": "code",
   "execution_count": 11,
   "metadata": {},
   "outputs": [
    {
     "data": {
      "text/plain": [
       "2"
      ]
     },
     "execution_count": 11,
     "metadata": {},
     "output_type": "execute_result"
    }
   ],
   "source": [
    "root.left.right.val"
   ]
  },
  {
   "cell_type": "code",
   "execution_count": 12,
   "metadata": {},
   "outputs": [
    {
     "data": {
      "text/plain": [
       "3"
      ]
     },
     "execution_count": 12,
     "metadata": {},
     "output_type": "execute_result"
    }
   ],
   "source": [
    "root.delete(1).val\n",
    "# returns the root value after deletion."
   ]
  },
  {
   "cell_type": "code",
   "execution_count": 13,
   "metadata": {},
   "outputs": [
    {
     "data": {
      "text/plain": [
       "True"
      ]
     },
     "execution_count": 13,
     "metadata": {},
     "output_type": "execute_result"
    }
   ],
   "source": [
    "root.isBST()"
   ]
  },
  {
   "cell_type": "code",
   "execution_count": 14,
   "metadata": {},
   "outputs": [
    {
     "data": {
      "text/plain": [
       "2"
      ]
     },
     "execution_count": 14,
     "metadata": {},
     "output_type": "execute_result"
    }
   ],
   "source": [
    "root.left.val"
   ]
  }
 ],
 "metadata": {
  "kernelspec": {
   "display_name": "Python 3",
   "language": "python",
   "name": "python3"
  },
  "language_info": {
   "codemirror_mode": {
    "name": "ipython",
    "version": 3
   },
   "file_extension": ".py",
   "mimetype": "text/x-python",
   "name": "python",
   "nbconvert_exporter": "python",
   "pygments_lexer": "ipython3",
   "version": "3.7.1"
  }
 },
 "nbformat": 4,
 "nbformat_minor": 2
}
